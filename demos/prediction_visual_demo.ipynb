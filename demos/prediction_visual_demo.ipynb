{
 "cells": [
  {
   "cell_type": "code",
   "execution_count": null,
   "metadata": {},
   "outputs": [],
   "source": [
    "import joblib\n",
    "import numpy as np\n",
    "from sklearn.metrics import accuracy_score, precision_score, recall_score, f1_score\n",
    "\n",
    "# Load the model using joblib\n",
    "loaded_model = joblib.load('../saved_model/trained_model.jobllib')\n",
    "\n",
    "# Load new data for prediction (replace this with your actual data loading code)\n",
    "new_data = np.loadtxt('path/to/new_data.txt')\n",
    "\n",
    "# Make predictions\n",
    "predictions = loaded_model.predict(new_data)\n",
    "\n",
    "# Assuming you have true labels for the new data\n",
    "true_labels = np.loadtxt('path/to/true_labels.txt')\n",
    "\n",
    "# Convert predictions to binary (if needed)\n",
    "binary_predictions = (predictions[:, 1] > 0.5).astype(int)\n",
    "\n",
    "# Calculate metrics\n",
    "accuracy = accuracy_score(true_labels, binary_predictions)\n",
    "precision = precision_score(true_labels, binary_predictions, zero_division=1)\n",
    "recall = recall_score(true_labels, binary_predictions, zero_division=1)\n",
    "f1 = f1_score(true_labels, binary_predictions, zero_division=1)\n",
    "\n",
    "# Print metrics\n",
    "print(f\"Accuracy: {accuracy:.4f}\")\n",
    "print(f\"Precision: {precision:.4f}\")\n",
    "print(f\"Recall: {recall:.4f}\")\n",
    "print(f\"F1-Score: {f1:.4f}\")"
   ]
  }
 ],
 "metadata": {
  "kernelspec": {
   "display_name": "genaicyber",
   "language": "python",
   "name": "python3"
  },
  "language_info": {
   "name": "python",
   "version": "3.12.4"
  }
 },
 "nbformat": 4,
 "nbformat_minor": 2
}
