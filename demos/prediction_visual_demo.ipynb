{
 "cells": [
  {
   "cell_type": "code",
   "execution_count": 6,
   "metadata": {},
   "outputs": [
    {
     "name": "stdout",
     "output_type": "stream",
     "text": [
      "None\n"
     ]
    },
    {
     "ename": "AttributeError",
     "evalue": "'NoneType' object has no attribute 'predict'",
     "output_type": "error",
     "traceback": [
      "\u001b[0;31m---------------------------------------------------------------------------\u001b[0m",
      "\u001b[0;31mAttributeError\u001b[0m                            Traceback (most recent call last)",
      "Cell \u001b[0;32mIn[6], line 14\u001b[0m\n\u001b[1;32m     11\u001b[0m X_train, x_val \u001b[38;5;241m=\u001b[39m load_network_traffic_data()\n\u001b[1;32m     13\u001b[0m \u001b[38;5;66;03m# Make predictions\u001b[39;00m\n\u001b[0;32m---> 14\u001b[0m predictions \u001b[38;5;241m=\u001b[39m \u001b[43mloaded_model\u001b[49m\u001b[38;5;241;43m.\u001b[39;49m\u001b[43mpredict\u001b[49m(X_train)\n\u001b[1;32m     16\u001b[0m predictions \u001b[38;5;241m=\u001b[39m np\u001b[38;5;241m.\u001b[39marray(predictions)\n\u001b[1;32m     17\u001b[0m predicted_classes \u001b[38;5;241m=\u001b[39m np\u001b[38;5;241m.\u001b[39margmax(predictions, axis\u001b[38;5;241m=\u001b[39m\u001b[38;5;241m1\u001b[39m)\n",
      "\u001b[0;31mAttributeError\u001b[0m: 'NoneType' object has no attribute 'predict'"
     ]
    }
   ],
   "source": [
    "import joblib\n",
    "import numpy as np\n",
    "from sklearn.metrics import accuracy_score, precision_score, recall_score, f1_score\n",
    "from data_loader import load_network_traffic_data\n",
    "\n",
    "# Load the model using joblib\n",
    "loaded_model = joblib.load('trained_model.joblib')\n",
    "print(loaded_model)\n",
    "\n",
    "# Load new data for prediction (replace this with your actual data loading code)\n",
    "X_train, x_val = load_network_traffic_data()\n",
    "\n",
    "# Make predictions\n",
    "predictions = loaded_model.predict(X_train)\n",
    "\n",
    "predictions = np.array(predictions)\n",
    "predicted_classes = np.argmax(predictions, axis=1)\n",
    "probabilities = np.array([pred[0][1] for pred in predictions])\n",
    "binary_predictions = (probabilities > 0.3).astype(int)\n",
    "\n",
    "# Calculate metrics\n",
    "accuracy = accuracy_score(x_val, binary_predictions)\n",
    "precision = precision_score(x_val, binary_predictions, zero_division=1)\n",
    "recall = recall_score(x_val, binary_predictions, zero_division=1)\n",
    "f1 = f1_score(x_val, binary_predictions, zero_division=1)\n",
    "\n",
    "# Print metrics\n",
    "print(f\"Accuracy: {accuracy:.4f}\")\n",
    "print(f\"Precision: {precision:.4f}\")\n",
    "print(f\"Recall: {recall:.4f}\")\n",
    "print(f\"F1-Score: {f1:.4f}\")"
   ]
  }
 ],
 "metadata": {
  "kernelspec": {
   "display_name": "genaicyber",
   "language": "python",
   "name": "python3"
  },
  "language_info": {
   "codemirror_mode": {
    "name": "ipython",
    "version": 3
   },
   "file_extension": ".py",
   "mimetype": "text/x-python",
   "name": "python",
   "nbconvert_exporter": "python",
   "pygments_lexer": "ipython3",
   "version": "3.12.4"
  }
 },
 "nbformat": 4,
 "nbformat_minor": 2
}
