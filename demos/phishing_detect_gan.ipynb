{
 "cells": [
  {
   "cell_type": "code",
   "execution_count": 9,
   "metadata": {},
   "outputs": [
    {
     "name": "stdout",
     "output_type": "stream",
     "text": [
      "Real Data Mean: [-9.09494702e-17  0.00000000e+00  5.11590770e-17  0.00000000e+00\n",
      "  4.54747351e-17]\n",
      "Generated Data Mean: [ 0.39963982 -0.02183449  0.5306102  -0.39766725 -0.52685806]\n",
      "Real Data Std: [1. 1. 1. 1. 1.]\n",
      "Generated Data Std: [0.53573689 0.39078661 0.38913073 0.35351933 0.53596837]\n"
     ]
    }
   ],
   "source": [
    "import numpy as np\n",
    "from sklearn.preprocessing import StandardScaler\n",
    "from gan import GAN\n",
    "from unified_network import UnifiedNetwork\n",
    "from data_loader import load_network_traffic_from_txt, load_phishing_emails\n",
    "\n",
    "phishing_emails, labels = load_phishing_emails('datasets/Phishing_Legitimate_full.csv')\n",
    "network_traffic = load_network_traffic_from_txt('datasets/Train.txt')\n",
    "\n",
    "min_samples = min(network_traffic.shape[0], labels.shape[0])\n",
    "network_traffic = network_traffic[:min_samples]\n",
    "labels = labels[:min_samples]\n",
    "unified_network = UnifiedNetwork(input_shape=network_traffic.shape[1], phishing_email_shape=phishing_emails.shape[1])\n",
    "\n",
    "gan = GAN(generator=unified_network.generator, discriminator=unified_network.discriminator)\n",
    "\n",
    "# Generate synthetic phishing emails\n",
    "num_samples = 10\n",
    "noise_size = 100\n",
    "synthetic_emails = gan.generate(num_samples=num_samples, noise_size=noise_size)\n",
    "\n",
    "num_samples = 10\n",
    "synthetic_emails = unified_network.generate_synthetic_data(num_samples=num_samples, noise_size=100)\n",
    "\n",
    "print(\"Generated Synthetic Phishing Emails:\")\n",
    "print(synthetic_emails)\n",
    "\n",
    "# Calculate statistics for real and generated data\n",
    "real_mean = np.mean(phishing_emails, axis=0)\n",
    "real_std = np.std(phishing_emails, axis=0)\n",
    "\n",
    "generated_mean = np.mean(synthetic_emails, axis=0)\n",
    "generated_std = np.std(synthetic_emails, axis=0)\n",
    "\n",
    "print(f\"Real Data Mean: {real_mean[:5]}\")\n",
    "print(f\"Generated Data Mean: {generated_mean[:5]}\")\n",
    "print(f\"Real Data Std: {real_std[:5]}\")\n",
    "print(f\"Generated Data Std: {generated_std[:5]}\")\n",
    "\n"
   ]
  }
 ],
 "metadata": {
  "kernelspec": {
   "display_name": "genaicyber",
   "language": "python",
   "name": "python3"
  },
  "language_info": {
   "codemirror_mode": {
    "name": "ipython",
    "version": 3
   },
   "file_extension": ".py",
   "mimetype": "text/x-python",
   "name": "python",
   "nbconvert_exporter": "python",
   "pygments_lexer": "ipython3",
   "version": "3.12.4"
  }
 },
 "nbformat": 4,
 "nbformat_minor": 2
}
