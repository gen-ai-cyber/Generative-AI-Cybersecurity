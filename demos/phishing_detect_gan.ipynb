{
 "cells": [
  {
   "cell_type": "code",
   "execution_count": 1,
   "metadata": {},
   "outputs": [
    {
     "name": "stdout",
     "output_type": "stream",
     "text": [
      "Shape of real_labels: (10,)\n",
      "Shape of binary_predictions: (10,)\n",
      "Data type of real_labels: int64\n",
      "Data type of binary_predictions: int64\n",
      "Unique values in real_labels: [0 1]\n",
      "Unique values in binary_predictions: [0 1]\n",
      "GAN Demo for Phishing Email Generation:\n",
      "Accuracy: 0.5000, Precision: 0.5000, Recall: 0.6000, F1-Score: 0.5455\n"
     ]
    },
    {
     "ename": "NameError",
     "evalue": "name 'real_mean' is not defined",
     "output_type": "error",
     "traceback": [
      "\u001b[0;31m---------------------------------------------------------------------------\u001b[0m",
      "\u001b[0;31mNameError\u001b[0m                                 Traceback (most recent call last)",
      "Cell \u001b[0;32mIn[1], line 65\u001b[0m\n\u001b[1;32m     63\u001b[0m generated_mean \u001b[38;5;241m=\u001b[39m np\u001b[38;5;241m.\u001b[39mmean(synthetic_emails, axis\u001b[38;5;241m=\u001b[39m\u001b[38;5;241m0\u001b[39m)\n\u001b[1;32m     64\u001b[0m generated_std \u001b[38;5;241m=\u001b[39m np\u001b[38;5;241m.\u001b[39mstd(synthetic_emails, axis\u001b[38;5;241m=\u001b[39m\u001b[38;5;241m0\u001b[39m)\n\u001b[0;32m---> 65\u001b[0m \u001b[38;5;28mprint\u001b[39m(\u001b[38;5;124mf\u001b[39m\u001b[38;5;124m\"\u001b[39m\u001b[38;5;124mReal Data Mean: \u001b[39m\u001b[38;5;132;01m{\u001b[39;00m\u001b[43mreal_mean\u001b[49m[:\u001b[38;5;241m5\u001b[39m]\u001b[38;5;132;01m}\u001b[39;00m\u001b[38;5;124m\"\u001b[39m)\n\u001b[1;32m     66\u001b[0m \u001b[38;5;28mprint\u001b[39m(\u001b[38;5;124mf\u001b[39m\u001b[38;5;124m\"\u001b[39m\u001b[38;5;124mGenerated Data Mean: \u001b[39m\u001b[38;5;132;01m{\u001b[39;00mgenerated_mean[:\u001b[38;5;241m5\u001b[39m]\u001b[38;5;132;01m}\u001b[39;00m\u001b[38;5;124m\"\u001b[39m)\n\u001b[1;32m     67\u001b[0m \u001b[38;5;28mprint\u001b[39m(\u001b[38;5;124mf\u001b[39m\u001b[38;5;124m\"\u001b[39m\u001b[38;5;124mReal Data Std: \u001b[39m\u001b[38;5;132;01m{\u001b[39;00mreal_std[:\u001b[38;5;241m5\u001b[39m]\u001b[38;5;132;01m}\u001b[39;00m\u001b[38;5;124m\"\u001b[39m)\n",
      "\u001b[0;31mNameError\u001b[0m: name 'real_mean' is not defined"
     ]
    }
   ],
   "source": [
    "import numpy as np\n",
    "from sklearn.preprocessing import StandardScaler\n",
    "from sklearn.metrics import accuracy_score, precision_score, recall_score, f1_score\n",
    "from gan import GAN\n",
    "from unified_network import UnifiedNetwork\n",
    "from data_loader import load_network_traffic_from_txt, load_phishing_emails\n",
    "\n",
    "phishing_emails, labels = load_phishing_emails('datasets/Phishing_Legitimate_full.csv')\n",
    "network_traffic = load_network_traffic_from_txt('datasets/Train.txt')\n",
    "\n",
    "min_samples = min(network_traffic.shape[0], labels.shape[0])\n",
    "network_traffic = network_traffic[:min_samples]\n",
    "labels = labels[:min_samples]\n",
    "unified_network = UnifiedNetwork(input_shape=network_traffic.shape[1], phishing_email_shape=phishing_emails.shape[1])\n",
    "\n",
    "gan = GAN(generator=unified_network.generator, discriminator=unified_network.discriminator)\n",
    "\n",
    "# Generate synthetic phishing emails\n",
    "num_samples = 10\n",
    "noise_size = 100\n",
    "threshold = 0.5\n",
    "synthetic_emails = gan.generate(num_samples=num_samples, noise_size=noise_size)\n",
    "# synthetic_emails = np.array([np.array(email)])\n",
    "discriminator_predictions = unified_network.discriminator.predict(synthetic_emails)\n",
    "binary_predictions = (np.array(discriminator_predictions) > threshold).astype(int)\n",
    "binary_predictions = binary_predictions.reshape(-1)\n",
    "real_labels = np.zeros(num_samples)\n",
    "real_labels = np.array([0] * (num_samples // 2) + [1] * (num_samples - num_samples // 2))\n",
    "\n",
    "# Print shapes and types to ensure they match\n",
    "print(\"Shape of real_labels:\", real_labels.shape)\n",
    "print(\"Shape of binary_predictions:\", binary_predictions.shape)\n",
    "print(\"Data type of real_labels:\", real_labels.dtype)\n",
    "print(\"Data type of binary_predictions:\", binary_predictions.dtype)\n",
    "# Debug: Check unique values to ensure binary format\n",
    "print(\"Unique values in real_labels:\", np.unique(real_labels))\n",
    "print(\"Unique values in binary_predictions:\", np.unique(binary_predictions))\n",
    "# num_samples = 10\n",
    "# synthetic_emails = unified_network.generate_synthetic_data(num_samples=num_samples, noise_size=100)\n",
    "\n",
    "# print(\"Generated Synthetic Phishing Emails:\")\n",
    "# print(synthetic_emails)\n",
    "\n",
    "if set(np.unique(real_labels)).issubset({0, 1}) and set(np.unique(binary_predictions)).issubset({0, 1}):\n",
    "    accuracy = accuracy_score(real_labels, binary_predictions)\n",
    "    precision = precision_score(real_labels, binary_predictions, zero_division=1)\n",
    "    recall = recall_score(real_labels, binary_predictions, zero_division=1)\n",
    "    f1 = f1_score(real_labels, binary_predictions, zero_division=1)\n",
    "\n",
    "    # Print metrics\n",
    "    print(f\"GAN Demo for Phishing Email Generation:\")\n",
    "    print(f\"Accuracy: {accuracy:.4f}, Precision: {precision:.4f}, Recall: {recall:.4f}, F1-Score: {f1:.4f}\")\n",
    "else:\n",
    "    print(\"Error: Non-binary labels detected. Check real_labels and binary_predictions.\")\n",
    "# accuracy = accuracy_score(real_labels, binary_predictions)\n",
    "# precision = precision_score(real_labels, binary_predictions)\n",
    "# recall = recall_score(real_labels, binary_predictions)\n",
    "# f1 = f1_score(real_labels, binary_predictions)\n",
    "# Calculate statistics for real and generated data\n",
    "# real_mean = np.mean(phishing_emails, axis=0)\n",
    "# real_std = np.std(phishing_emails, axis=0)\n",
    "\n",
    "generated_mean = np.mean(synthetic_emails, axis=0)\n",
    "generated_std = np.std(synthetic_emails, axis=0)\n",
    "print(f\"Real Data Mean: {real_mean[:5]}\")\n",
    "print(f\"Generated Data Mean: {generated_mean[:5]}\")\n",
    "print(f\"Real Data Std: {real_std[:5]}\")\n",
    "print(f\"Generated Data Std: {generated_std[:5]}\")\n",
    "\n"
   ]
  }
 ],
 "metadata": {
  "kernelspec": {
   "display_name": "genaicyber",
   "language": "python",
   "name": "python3"
  },
  "language_info": {
   "codemirror_mode": {
    "name": "ipython",
    "version": 3
   },
   "file_extension": ".py",
   "mimetype": "text/x-python",
   "name": "python",
   "nbconvert_exporter": "python",
   "pygments_lexer": "ipython3",
   "version": "3.12.4"
  }
 },
 "nbformat": 4,
 "nbformat_minor": 2
}
