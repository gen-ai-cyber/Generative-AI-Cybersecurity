{
 "cells": [
  {
   "cell_type": "code",
   "execution_count": 2,
   "metadata": {},
   "outputs": [
    {
     "name": "stdout",
     "output_type": "stream",
     "text": [
      "epoch 1/10  error=0.694572\n",
      "epoch 2/10  error=0.694364\n",
      "epoch 3/10  error=0.694360\n",
      "epoch 4/10  error=0.694360\n",
      "epoch 5/10  error=0.694360\n",
      "epoch 6/10  error=0.694360\n",
      "epoch 7/10  error=0.694360\n",
      "epoch 8/10  error=0.694360\n",
      "epoch 9/10  error=0.694360\n",
      "epoch 10/10  error=0.694360\n",
      "Malware Analysis - Accuracy: 0.500375, Precision: 0.500375, Recall: 1.0\n"
     ]
    }
   ],
   "source": [
    "import numpy as np\n",
    "from unified_network import UnifiedNetwork\n",
    "from sklearn.metrics import accuracy_score, precision_score, recall_score\n",
    "from data_loader import load_network_traffic_from_txt, load_phishing_emails, load_malware_data\n",
    "\n",
    "phishing_emails, labels = load_phishing_emails('datasets/Phishing_Legitimate_full.csv')\n",
    "network_traffic = load_network_traffic_from_txt('datasets/Train.txt')\n",
    "X_malware, x_test, y_malware, y_test = load_malware_data()\n",
    "\n",
    "min_samples = min(network_traffic.shape[0], labels.shape[0])\n",
    "network_traffic = network_traffic[:min_samples]\n",
    "labels = labels[:min_samples]\n",
    "\n",
    "unified_network = UnifiedNetwork(X_malware.shape[1], y_malware.shape[1] if len(y_malware.shape) > 1 else 1)\n",
    "\n",
    "# Load malware analysis data (features and labels)\n",
    "\n",
    "# Train and evaluate malware analysis model\n",
    "unified_network.network.fit(X_malware, y_malware, epochs=10, learning_rate=0.01)\n",
    "\n",
    "# Predict and evaluate\n",
    "predictions = unified_network.network.predict(X_malware)\n",
    "binary_predictions = (np.array(predictions) > 0.5).astype(int).flatten()\n",
    "\n",
    "if len(binary_predictions) > len(y_malware):\n",
    "    binary_predictions = binary_predictions[:len(y_malware)]\n",
    "elif len(binary_predictions) < len(y_malware):\n",
    "    y_malware = y_malware[:len(binary_predictions)]\n",
    "\n",
    "accuracy = accuracy_score(y_malware, binary_predictions)\n",
    "precision = precision_score(y_malware, binary_predictions)\n",
    "recall = recall_score(y_malware, binary_predictions)\n",
    "\n",
    "print(f\"Malware Analysis - Accuracy: {accuracy}, Precision: {precision}, Recall: {recall}\")\n"
   ]
  }
 ],
 "metadata": {
  "kernelspec": {
   "display_name": "genaicyber",
   "language": "python",
   "name": "python3"
  },
  "language_info": {
   "codemirror_mode": {
    "name": "ipython",
    "version": 3
   },
   "file_extension": ".py",
   "mimetype": "text/x-python",
   "name": "python",
   "nbconvert_exporter": "python",
   "pygments_lexer": "ipython3",
   "version": "3.12.4"
  }
 },
 "nbformat": 4,
 "nbformat_minor": 2
}
