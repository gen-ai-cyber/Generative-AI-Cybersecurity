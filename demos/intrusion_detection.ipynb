{
 "cells": [
  {
   "cell_type": "code",
   "execution_count": null,
   "metadata": {},
   "outputs": [],
   "source": [
    "# Imports\n",
    "import numpy as np\n",
    "from sklearn.metrics import accuracy_score, classification_report\n",
    "from data_loader import load_phishing_emails, load_network_traffic_from_txt\n",
    "from unified_network import UnifiedNetwork\n",
    "\n",
    "phishing_emails, labels = load_phishing_emails('datasets/Phishing_Legitimate_full.csv')\n",
    "network_traffic = load_network_traffic_from_txt('datasets/Train.txt')\n",
    "\n",
    "min_samples = min(network_traffic.shape[0], labels.shape[0])\n",
    "network_traffic = network_traffic[:min_samples]\n",
    "labels = labels[:min_samples]\n",
    "unified_network = UnifiedNetwork(input_shape=network_traffic.shape[1], phishing_email_shape=phishing_emails.shape[1])\n",
    "# Labels for training the IDS\n",
    "labels = np.random.randint(0, 2, size=(network_traffic.shape[0],)) \n",
    "\n",
    "# Train the IDS network\n",
    "unified_network.fit(network_traffic, phishing_emails=phishing_emails, labels=labels, epochs=10, learning_rate=0.001)\n",
    "\n",
    "# Predict using the IDS and evaluate performance\n",
    "predictions = unified_network.predict(network_traffic)\n",
    "predictions = np.array(predictions)\n",
    "predicted_classes = np.argmax(predictions, axis=1)\n",
    "probabilities = np.array([pred[0][1] for pred in predictions])\n",
    "binary_predictions = (probabilities > 0.5).astype(int)\n",
    "\n",
    "# Calculate accuracy and show classification report\n",
    "accuracy = accuracy_score(labels, binary_predictions)\n",
    "print(f\"Accuracy: {accuracy}\")\n",
    "print(\"Classification Report:\")\n",
    "print(classification_report(labels, binary_predictions))"
   ]
  }
 ],
 "metadata": {
  "kernelspec": {
   "display_name": "genaicyber",
   "language": "python",
   "name": "python3"
  },
  "language_info": {
   "name": "python",
   "version": "3.12.4"
  }
 },
 "nbformat": 4,
 "nbformat_minor": 2
}
